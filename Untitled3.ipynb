{
  "nbformat": 4,
  "nbformat_minor": 0,
  "metadata": {
    "colab": {
      "provenance": [],
      "authorship_tag": "ABX9TyOVF98lR7KnyiWQwRGvQ3qs",
      "include_colab_link": true
    },
    "kernelspec": {
      "name": "python3",
      "display_name": "Python 3"
    },
    "language_info": {
      "name": "python"
    }
  },
  "cells": [
    {
      "cell_type": "markdown",
      "metadata": {
        "id": "view-in-github",
        "colab_type": "text"
      },
      "source": [
        "<a href=\"https://colab.research.google.com/github/aryagaikwad31-a/internship-task-4/blob/main/Untitled3.ipynb\" target=\"_parent\"><img src=\"https://colab.research.google.com/assets/colab-badge.svg\" alt=\"Open In Colab\"/></a>"
      ]
    },
    {
      "cell_type": "code",
      "execution_count": null,
      "metadata": {
        "id": "Wyek4IfmXu3W"
      },
      "outputs": [],
      "source": [
        "# =========================================\n",
        "# GENERATIVE TEXT MODEL - SINGLE CELL SCRIPT\n",
        "# =========================================\n",
        "\n",
        "# 1) Install dependencies\n",
        "!pip install -q transformers torch\n",
        "\n",
        "# 2) Imports\n",
        "from transformers import GPT2LMHeadModel, GPT2Tokenizer\n",
        "import torch\n",
        "\n",
        "# 3) Load pretrained GPT-2\n",
        "model_name = \"gpt2\"  # small GPT-2, can use \"gpt2-medium\" if GPU available\n",
        "tokenizer = GPT2Tokenizer.from_pretrained(model_name)\n",
        "model = GPT2LMHeadModel.from_pretrained(model_name)\n",
        "model.eval()\n",
        "\n",
        "# Use GPU if available\n",
        "device = torch.device(\"cuda\" if torch.cuda.is_available() else \"cpu\")\n",
        "model.to(device)\n",
        "print(\"Using device:\", device)\n",
        "\n",
        "# 4) Function to generate text\n",
        "def generate_text(prompt, max_length=150, temperature=0.7, top_k=50):\n",
        "    input_ids = tokenizer.encode(prompt, return_tensors=\"pt\").to(device)\n",
        "    with torch.no_grad():\n",
        "        output = model.generate(\n",
        "            input_ids,\n",
        "            max_length=max_length,\n",
        "            temperature=temperature,\n",
        "            top_k=top_k,\n",
        "            do_sample=True,\n",
        "            num_return_sequences=1\n",
        "        )\n",
        "    generated_text = tokenizer.decode(output[0], skip_special_tokens=True)\n",
        "    return generated_text\n",
        "\n",
        "# 5) User input & text generation\n",
        "print(\"Enter your prompt for text generation:\")\n",
        "user_prompt = input()\n",
        "\n",
        "generated_output = generate_text(user_prompt)\n",
        "print(\"\\n--- Generated Text ---\\n\")\n",
        "print(generated_output)\n"
      ]
    }
  ]
}